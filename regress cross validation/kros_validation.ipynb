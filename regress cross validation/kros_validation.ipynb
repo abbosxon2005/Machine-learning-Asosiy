{
  "nbformat": 4,
  "nbformat_minor": 0,
  "metadata": {
    "colab": {
      "provenance": []
    },
    "kernelspec": {
      "name": "python3",
      "display_name": "Python 3"
    },
    "language_info": {
      "name": "python"
    }
  },
  "cells": [
    {
      "cell_type": "code",
      "execution_count": 6,
      "metadata": {
        "id": "HDkZDs-3br68"
      },
      "outputs": [],
      "source": [
        "import pandas as pd\n",
        "import numpy as np\n",
        "from sklearn.linear_model import LinearRegression\n",
        "from sklearn.model_selection import KFold, cross_val_score\n",
        "from sklearn.preprocessing import LabelEncoder\n",
        "import matplotlib.pyplot as plt"
      ]
    },
    {
      "cell_type": "code",
      "source": [],
      "metadata": {
        "id": "MneQYMNLdkyO"
      },
      "execution_count": 14,
      "outputs": []
    },
    {
      "cell_type": "code",
      "source": [
        "df = pd.read_csv('biznes_daromadlari.csv')\n",
        "print(df.head(20))"
      ],
      "metadata": {
        "colab": {
          "base_uri": "https://localhost:8080/"
        },
        "id": "C8knEI0CfeQw",
        "outputId": "173de219-b64e-4014-e0d2-535b8ef6c443"
      },
      "execution_count": 15,
      "outputs": [
        {
          "output_type": "stream",
          "name": "stdout",
          "text": [
            "   Kompaniya_nomi  Ishch_soni  Yil_invest(mln)   Yil  Yil_daromad (mln)\n",
            "0     OptimaTrade         277             8094  2018              12428\n",
            "1     SmartVision         427             1595  2023               4269\n",
            "2        NextStep          42             3404  2022               1074\n",
            "3      GreenWorld          57             3863  2021              11953\n",
            "4     OptimaTrade         416             5332  2020               1648\n",
            "5         SunRise          71             1953  2018               6793\n",
            "6         AvtoMax         225             6685  2018               6957\n",
            "7     OptimaTrade         302             1391  2021               8009\n",
            "8        NextStep         108             3681  2020              10407\n",
            "9      GreenWorld         181             7654  2020               5277\n",
            "10    SmartVision         369             7380  2023              13625\n",
            "11       NextStep         223             1736  2023               4354\n",
            "12       NextStep         484             3796  2023              13865\n",
            "13        AvtoMax          44              798  2023               2991\n",
            "14     MegaSanoat         458             4837  2023              11352\n",
            "15     GreenWorld         236              954  2023               3624\n",
            "16     OltinStart         110             8264  2022               6191\n",
            "17       NextStep         440             5955  2020               3551\n",
            "18     MegaSanoat         471             7492  2023                504\n",
            "19     OltinStart         140             6628  2020               5722\n"
          ]
        }
      ]
    },
    {
      "cell_type": "code",
      "source": [
        "le = LabelEncoder()\n",
        "df['Kompaniya_nomi'] = le.fit_transform(df['Kompaniya_nomi'])"
      ],
      "metadata": {
        "id": "0sbLIhJyfkLo"
      },
      "execution_count": 16,
      "outputs": []
    },
    {
      "cell_type": "code",
      "source": [
        "# X va y ni ajratamiz\n",
        "X = df.drop(\"Yil_daromad (mln)\", axis=1)\n",
        "y = df[\"Yil_daromad (mln)\"]"
      ],
      "metadata": {
        "id": "qf6EFJcAgelg"
      },
      "execution_count": 18,
      "outputs": []
    },
    {
      "cell_type": "code",
      "source": [
        "#Model va Cross-Validation tayyorlaymiz\n",
        "model = LinearRegression()\n",
        "kf = KFold(n_splits=5, shuffle=True, random_state=42)"
      ],
      "metadata": {
        "id": "HIMhxHcVgiLW"
      },
      "execution_count": 19,
      "outputs": []
    },
    {
      "cell_type": "code",
      "source": [
        "#Cross-validationni bajarish\n",
        "scores = cross_val_score(model, X, y, cv=kf, scoring='neg_mean_squared_error')\n",
        "rmse_scores = np.sqrt(-scores)"
      ],
      "metadata": {
        "id": "O4m9qlQmgtiS"
      },
      "execution_count": 20,
      "outputs": []
    },
    {
      "cell_type": "code",
      "source": [
        "print(\"\\nHar bir fold uchun RMSE:\")\n",
        "print(rmse_scores)\n",
        "print(\"\\nO'rtacha RMSE:\", np.mean(rmse_scores))"
      ],
      "metadata": {
        "colab": {
          "base_uri": "https://localhost:8080/"
        },
        "id": "_BpN-8D2gwmK",
        "outputId": "d5715b7b-6e15-49c8-e1b9-90172df196ae"
      },
      "execution_count": 24,
      "outputs": [
        {
          "output_type": "stream",
          "name": "stdout",
          "text": [
            "\n",
            "Har bir fold uchun RMSE:\n",
            "[5163.60794052 4302.26305383 4019.39452413 4048.21325918 4188.94136123]\n",
            "\n",
            "O'rtacha RMSE: 4344.484027778542\n"
          ]
        }
      ]
    },
    {
      "cell_type": "code",
      "source": [
        "#Vizualizatsiya: RMSE qiymatlarini grafik ko'rinishda chiqaramiz\n",
        "plt.figure(figsize=(8,5))\n",
        "plt.plot(range(1, 6), rmse_scores, marker='o', linestyle='-', color='blue')\n",
        "plt.title('Har bir fold uchun RMSE')\n",
        "plt.xlabel('Fold')\n",
        "plt.ylabel('RMSE')\n",
        "plt.grid(True)\n",
        "plt.show()"
      ],
      "metadata": {
        "colab": {
          "base_uri": "https://localhost:8080/",
          "height": 487
        },
        "id": "hThzDZPqg2SG",
        "outputId": "a4346909-a999-4baa-adb4-1b9f2bb0336a"
      },
      "execution_count": 23,
      "outputs": [
        {
          "output_type": "display_data",
          "data": {
            "text/plain": [
              "<Figure size 800x500 with 1 Axes>"
            ],
            "image/png": "[encoded data removed]"
          },
          "metadata": {}
        }
      ]
    },
    {
      "cell_type": "code",
      "source": [],
      "metadata": {
        "id": "ro_XEN8Qg6kt"
      },
      "execution_count": null,
      "outputs": []
    }
  ]
}